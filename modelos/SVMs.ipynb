{
  "nbformat": 4,
  "nbformat_minor": 0,
  "metadata": {
    "colab": {
      "provenance": []
    },
    "kernelspec": {
      "name": "python3",
      "display_name": "Python 3"
    },
    "language_info": {
      "name": "python"
    }
  },
  "cells": [
    {
      "cell_type": "code",
      "source": [
        "from sklearn.datasets import load_breast_cancer\n",
        "\n",
        "data = load_breast_cancer()"
      ],
      "metadata": {
        "id": "53KDEINTFprp"
      },
      "execution_count": null,
      "outputs": []
    },
    {
      "cell_type": "code",
      "source": [
        "X = data.data\n",
        "y = data.target"
      ],
      "metadata": {
        "id": "CKW18QGrF82u"
      },
      "execution_count": null,
      "outputs": []
    },
    {
      "cell_type": "code",
      "source": [
        "from sklearn.model_selection import train_test_split\n",
        "\n",
        "X_train, X_test, y_train, y_test = train_test_split(X, y, test_size=0.2)"
      ],
      "metadata": {
        "id": "SX-1mAhbGDHT"
      },
      "execution_count": null,
      "outputs": []
    },
    {
      "cell_type": "code",
      "execution_count": null,
      "metadata": {
        "colab": {
          "base_uri": "https://localhost:8080/"
        },
        "id": "cwzkAmcX-3xE",
        "outputId": "afd46aeb-8b61-4fc8-f0b5-bec372576f8e"
      },
      "outputs": [
        {
          "output_type": "stream",
          "name": "stdout",
          "text": [
            "Kernel: linear, Gamma: 0.1, Accuracy: 0.968421052631579\n",
            "Kernel: linear, Gamma: 0.01, Accuracy: 0.968421052631579\n",
            "Kernel: linear, Gamma: 0.001, Accuracy: 0.968421052631579\n",
            "Kernel: linear, Gamma: 0.0001, Accuracy: 0.968421052631579\n",
            "Kernel: rbf, Gamma: 0.1, Accuracy: 0.6526315789473685\n",
            "Kernel: rbf, Gamma: 0.01, Accuracy: 0.656140350877193\n",
            "Kernel: rbf, Gamma: 0.001, Accuracy: 0.9228070175438596\n",
            "Kernel: rbf, Gamma: 0.0001, Accuracy: 0.9473684210526315\n",
            "Kernel: sigmoid, Gamma: 0.1, Accuracy: 0.6526315789473685\n",
            "Kernel: sigmoid, Gamma: 0.01, Accuracy: 0.6526315789473685\n",
            "Kernel: sigmoid, Gamma: 0.001, Accuracy: 0.6526315789473685\n",
            "Kernel: sigmoid, Gamma: 0.0001, Accuracy: 0.6526315789473685\n"
          ]
        }
      ],
      "source": [
        "#SVM = Maquinas de vectores de soporte\n",
        "from sklearn import svm\n",
        "from sklearn.metrics import accuracy_score\n",
        "\n",
        "# svm.SVR() #valores continuos\n",
        "\n",
        "kernels = [ \"linear\",\"rbf\",\"sigmoid\"]\n",
        "gammas = [0.1,0.01,0.001,0.0001]\n",
        "\n",
        "for k in kernels:\n",
        "    for g in gammas:\n",
        "        modelo = svm.SVC(kernel=k,gamma=g)\n",
        "        modelo.fit(X_train, y_train)\n",
        "        prediciones = modelo.predict(X_test)\n",
        "        pre = accuracy_score(y_test, prediciones)\n",
        "        print(f\"Kernel: {k}, Gamma: {g}, Accuracy: {pre}\")\n",
        "\n"
      ]
    },
    {
      "cell_type": "code",
      "source": [
        "modelo = svm.SVC(kernel='linear')\n",
        "modelo.fit(X_train, y_train)\n",
        "prediciones = modelo.predict(X_test)\n",
        "pre = accuracy_score(y_test, prediciones)"
      ],
      "metadata": {
        "id": "-4dUcuI1GmsW"
      },
      "execution_count": null,
      "outputs": []
    },
    {
      "cell_type": "code",
      "source": [
        "pre"
      ],
      "metadata": {
        "colab": {
          "base_uri": "https://localhost:8080/"
        },
        "id": "JE-MG1lDIyYe",
        "outputId": "c5a011f6-e7a6-4463-87c6-d441ff49af20"
      },
      "execution_count": null,
      "outputs": [
        {
          "output_type": "execute_result",
          "data": {
            "text/plain": [
              "0.956140350877193"
            ]
          },
          "metadata": {},
          "execution_count": 9
        }
      ]
    },
    {
      "cell_type": "code",
      "source": [
        "from sklearn.metrics import confusion_matrix\n",
        "\n",
        "confusion_matrix(y_test, prediciones)"
      ],
      "metadata": {
        "colab": {
          "base_uri": "https://localhost:8080/"
        },
        "id": "DCumKgUoJDmi",
        "outputId": "f17b5915-742a-4d5b-cf06-e70e46464ee2"
      },
      "execution_count": null,
      "outputs": [
        {
          "output_type": "execute_result",
          "data": {
            "text/plain": [
              "array([[49,  3],\n",
              "       [ 2, 60]])"
            ]
          },
          "metadata": {},
          "execution_count": 10
        }
      ]
    },
    {
      "cell_type": "code",
      "source": [
        "from sklearn.metrics import precision_score\n",
        "precision_score(y_test, prediciones)"
      ],
      "metadata": {
        "colab": {
          "base_uri": "https://localhost:8080/"
        },
        "id": "b9wlf10XJWxm",
        "outputId": "345dea22-afce-4f05-b6ee-3eaeb98a708d"
      },
      "execution_count": null,
      "outputs": [
        {
          "output_type": "execute_result",
          "data": {
            "text/plain": [
              "0.9523809523809523"
            ]
          },
          "metadata": {},
          "execution_count": 11
        }
      ]
    }
  ]
}